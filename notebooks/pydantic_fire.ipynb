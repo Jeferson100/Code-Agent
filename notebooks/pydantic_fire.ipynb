{
 "cells": [
  {
   "cell_type": "code",
   "execution_count": 3,
   "id": "d27f1335",
   "metadata": {},
   "outputs": [
    {
     "data": {
      "text/html": [
       "<pre style=\"white-space:pre;overflow-x:auto;line-height:normal;font-family:Menlo,'DejaVu Sans Mono',consolas,'Courier New',monospace\"><span style=\"font-weight: bold\">Logfire</span> project URL: <a href=\"https://logfire-us.pydantic.dev/jeferson100/starter-project\" target=\"_blank\"><span style=\"color: #008080; text-decoration-color: #008080; text-decoration: underline\">https://logfire-us.pydantic.dev/jeferson100/starter-project</span></a>\n",
       "</pre>\n"
      ],
      "text/plain": [
       "\u001b[1mLogfire\u001b[0m project URL: \u001b]8;id=813845;https://logfire-us.pydantic.dev/jeferson100/starter-project\u001b\\\u001b[4;36mhttps://logfire-us.pydantic.dev/jeferson100/starter-project\u001b[0m\u001b]8;;\u001b\\\n"
      ]
     },
     "metadata": {},
     "output_type": "display_data"
    },
    {
     "name": "stdout",
     "output_type": "stream",
     "text": [
      "123 + 456 = 579\n"
     ]
    }
   ],
   "source": [
    "import os\n",
    "\n",
    "import logfire\n",
    "\n",
    "# These environment variables need to be set before importing langchain or langgraph\n",
    "os.environ['LANGSMITH_OTEL_ENABLED'] = 'true'\n",
    "os.environ['LANGSMITH_TRACING'] = 'true'\n",
    "\n",
    "from langgraph.prebuilt import create_react_agent\n",
    "\n",
    "logfire.configure(\n",
    "    \n",
    "    \n",
    ")\n",
    "\n",
    "\n",
    "def add(a: float, b: float) -> float:\n",
    "    \"\"\"Add two numbers.\"\"\"\n",
    "    return a + b\n",
    "\n",
    "\n",
    "math_agent = create_react_agent('groq:moonshotai/kimi-k2-instruct', tools=[add], name='math_agent')\n",
    "\n",
    "result = math_agent.invoke({'messages': [{'role': 'user', 'content': \"what's 123 + 456?\"}]})\n",
    "print(result['messages'][-1].content)"
   ]
  },
  {
   "cell_type": "code",
   "execution_count": 2,
   "id": "37d3b353",
   "metadata": {},
   "outputs": [
    {
     "name": "stdout",
     "output_type": "stream",
     "text": [
      "Object ` logfire.configure()` not found.\n"
     ]
    }
   ],
   "source": [
    "? logfire.configure()"
   ]
  },
  {
   "cell_type": "code",
   "execution_count": null,
   "id": "28071f65",
   "metadata": {},
   "outputs": [],
   "source": []
  }
 ],
 "metadata": {
  "kernelspec": {
   "display_name": "AgenteCodificaoLangGraph",
   "language": "python",
   "name": "python3"
  },
  "language_info": {
   "codemirror_mode": {
    "name": "ipython",
    "version": 3
   },
   "file_extension": ".py",
   "mimetype": "text/x-python",
   "name": "python",
   "nbconvert_exporter": "python",
   "pygments_lexer": "ipython3",
   "version": "3.12.0"
  }
 },
 "nbformat": 4,
 "nbformat_minor": 5
}
