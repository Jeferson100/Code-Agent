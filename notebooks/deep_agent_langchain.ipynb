{
 "cells": [
  {
   "cell_type": "code",
   "execution_count": null,
   "id": "ba5107a7",
   "metadata": {},
   "outputs": [],
   "source": [
    "import os\n",
    "from typing import Literal\n",
    "\n",
    "from tavily import TavilyClient\n",
    "from deepagents import create_deep_agent\n",
    "\n",
    "from langchain.chat_models import init_chat_model\n",
    "\n",
    "tavily_client = TavilyClient(api_key=os.environ[\"TAVILY_API_KEY\"])\n",
    "\n",
    "# Search tool to use to do research\n",
    "def internet_search(\n",
    "    query: str,\n",
    "    max_results: int = 5,\n",
    "    topic: Literal[\"general\", \"news\", \"finance\"] = \"general\",\n",
    "    include_raw_content: bool = False,\n",
    "):\n",
    "    \"\"\"Run a web search\"\"\"\n",
    "    return tavily_client.search(\n",
    "        query,\n",
    "        max_results=max_results,\n",
    "        include_raw_content=include_raw_content,\n",
    "        topic=topic,\n",
    "        country=\"brazil\"\n",
    "    )\n",
    "\n",
    "\n",
    "# Prompt prefix to steer the agent to be an expert researcher\n",
    "research_instructions = \"\"\"You are an expert researcher. Your job is to conduct thorough research, and then write a polished report.\n",
    "\n",
    "You have access to a few tools.\n",
    "\n",
    "## `internet_search`\n",
    "\n",
    "Use this to run an internet search for a given query. You can specify the number of results, the topic, and whether raw content should be included.\n",
    "\"\"\"\n",
    "\n",
    "model = init_chat_model(model =\n",
    "                        #\"moonshotai/kimi-k2-instruct-0905\", \n",
    "                        #\"openai/gpt-oss-120b\",\"\n",
    "                        \"qwen/qwen3-next-80b-a3b-instruct\",\n",
    "                        temperature=0.0,\n",
    "                        model_provider=\n",
    "                        #\"groq\"\n",
    "                        \"nvidia\"\n",
    "                        )\n",
    "\n",
    "# Create the agent\n",
    "agent = create_deep_agent(\n",
    "    [internet_search],\n",
    "    research_instructions,\n",
    "    model=model,\n",
    ")\n",
    "\n",
    "# Invoke the agent\n",
    "result = agent.invoke({\"messages\": [{\"role\": \"user\", \"content\": \"what is langgraph?\"}]})"
   ]
  },
  {
   "cell_type": "code",
   "execution_count": 2,
   "id": "9b5915b7",
   "metadata": {},
   "outputs": [
    {
     "data": {
      "text/plain": [
       "{'messages': [HumanMessage(content='what is langgraph?', additional_kwargs={}, response_metadata={}, id='947cd813-e459-4d28-80f3-fcbcf993c5ab'),\n",
       "  AIMessage(content=\"I'll help you understand what LangGraph is. Let me search for information about it.\", additional_kwargs={'tool_calls': [{'id': 'call_a910abf656dd4ba3826c1628', 'index': -1, 'type': 'function', 'function': {'name': 'internet_search', 'arguments': '{\"query\": \"what is LangGraph AI framework\"}'}}]}, response_metadata={'role': 'assistant', 'content': \"I'll help you understand what LangGraph is. Let me search for information about it.\", 'reasoning_content': None, 'tool_calls': [{'id': 'call_a910abf656dd4ba3826c1628', 'index': -1, 'type': 'function', 'function': {'name': 'internet_search', 'arguments': '{\"query\": \"what is LangGraph AI framework\"}'}}], 'token_usage': {'prompt_tokens': 4428, 'total_tokens': 4471, 'completion_tokens': 43, 'prompt_tokens_details': None, 'reasoning_tokens': 0}, 'finish_reason': 'tool_calls', 'model_name': 'qwen/qwen3-next-80b-a3b-instruct'}, id='run--93da5228-bdc5-4782-b186-eb04b83a00fd-0', tool_calls=[{'name': 'internet_search', 'args': {'query': 'what is LangGraph AI framework'}, 'id': 'call_a910abf656dd4ba3826c1628', 'type': 'tool_call'}], usage_metadata={'input_tokens': 4428, 'output_tokens': 43, 'total_tokens': 4471}, role='assistant'),\n",
       "  ToolMessage(content='{\"query\": \"what is LangGraph AI framework\", \"follow_up_questions\": null, \"answer\": null, \"images\": [], \"results\": [{\"url\": \"https://www.ibm.com/think/topics/langgraph\", \"title\": \"What is LangGraph?\", \"content\": \"LangGraph, created by LangChain, is an open source AI agent framework designed to build, deploy and manage complex generative AI agent workflows.\", \"score\": 0.9358233, \"raw_content\": null}, {\"url\": \"https://www.datacamp.com/tutorial/langgraph-agents\", \"title\": \"How to Build LangGraph Agents Hands-On Tutorial\", \"content\": \"LangGraph is a graph-based framework for building AI agents that can reason, plan, and act through interconnected steps.\", \"score\": 0.9222657, \"raw_content\": null}, {\"url\": \"https://langchain-ai.github.io/langgraph/\", \"title\": \"LangGraph - GitHub Pages\", \"content\": \"# LangGraph Trusted by companies shaping the future of agents – including Klarna, Replit, Elastic, and more – LangGraph is a low-level orchestration framework for building, managing, and deploying long-running, stateful agents. Or, to learn how to build an agent workflow with a customizable architecture, long-term memory, and other complex task handling, see the LangGraph basics tutorials. LangGraph provides low-level supporting infrastructure for *any* long-running, stateful workflow or agent. While LangGraph can be used standalone, it also integrates seamlessly with any LangChain product, giving developers a full suite of tools for building agents. * LangGraph Platform — Deploy and scale agents effortlessly with a purpose-built deployment platform for long running, stateful workflows.\", \"score\": 0.8430832, \"raw_content\": null}, {\"url\": \"https://www.getzep.com/ai-agents/langgraph-tutorial/\", \"title\": \"LangGraph Tutorial: Building Agents with LangChain\\'s ...\", \"content\": \"Learn how LangGraph, an AI agent framework built by LangChain, allows developers to create complex and flexible agent workflows using stateful graphs and built-in memory management. Now that you know how Zep\\'s long-term memory works, let\\'s look at how to develop an agent using LangGraph agents that employ Zep\\'s long-term memory to store user facts. We will define a graph state that stores messages originating from different nodes, user names, and session IDs. Next, we will create the **search\\\\\\\\_facts** tool, which uses the Zep client\\'s **memory.search\\\\\\\\_sessions()** method to find user facts relevant to the query. Finally, we define the **graph\\\\\\\\_invoke()** function, which accepts user query, user name, and session name (**thread\\\\\\\\_id** in the following script) and returns the LangGraph agent\\'s response.\", \"score\": 0.81524754, \"raw_content\": null}, {\"url\": \"https://medium.com/@ken_lin/langgraph-a-framework-for-building-stateful-multi-agent-llm-applications-a51d5eb68d03\", \"title\": \"LangGraph: A Framework for Building Stateful Multi-Agent ...\", \"content\": \"# **LangGraph: A Framework for Building Stateful Multi-Agent LLM Applications** As a specialized tool for creating complex LLM applications, LangGraph provides a structured approach to building sophisticated workflows that require cyclical processing patterns. The graph-based structure visually represents how information flows between components, making it easier to design, implement, and reason about complex multi-agent workflows. For straightforward applications that don’t require cyclical workflows or multi-agent coordination, LangGraph may introduce unnecessary complexity. LangGraph represents a significant advancement in the toolkit available for developing sophisticated LLM applications, particularly those involving agent-like behaviors and multi-agent coordination. For organizations and developers looking to build complex agent systems or applications requiring stateful, iterative processing, LangGraph provides a robust foundation that can significantly reduce development time and improve system quality.\", \"score\": 0.81097376, \"raw_content\": null}], \"response_time\": 1.77, \"request_id\": \"fb6a81d5-1b09-4431-a635-201fd002d36a\"}', name='internet_search', id='d3dc3c0f-e0f4-47e0-8356-dd7d3eac42e0', tool_call_id='call_a910abf656dd4ba3826c1628'),\n",
       "  AIMessage(content=\"Based on the search results, I can provide you with a comprehensive overview of LangGraph.\\n\\nLangGraph is an open-source AI agent framework created by LangChain that enables developers to build, deploy, and manage complex generative AI agent workflows. Here are the key aspects of LangGraph:\\n\\n## Core Concept\\nLangGraph is a graph-based framework designed for building AI agents that can reason, plan, and act through interconnected steps. It uses a stateful graph structure where nodes represent different processing steps and edges represent the flow of information between them.\\n\\n## Key Features\\n\\n1. **Stateful Workflows**: LangGraph is specifically designed for long-running, stateful agent workflows, maintaining context and memory across multiple interactions.\\n\\n2. **Graph-Based Architecture**: The framework represents workflows as graphs, making it easier to visualize and manage complex processing patterns, especially those requiring cyclical or iterative processing.\\n\\n3. **Multi-Agent Coordination**: LangGraph excels at building multi-agent systems where different components or agents coordinate to accomplish complex tasks.\\n\\n4. **Memory Management**: It includes built-in memory management capabilities, allowing agents to store and retrieve user facts, conversation history, and session data.\\n\\n5. **Low-Level Orchestration**: LangGraph provides low-level infrastructure for any long-running, stateful workflow or agent, making it flexible enough to be used standalone or integrated with other LangChain products.\\n\\n6. **Scalable Deployment**: The LangGraph Platform offers tools to deploy and scale agents effortlessly, particularly for long-running workflows.\\n\\n## Use Cases\\n- Complex agent workflows requiring multiple reasoning steps\\n- Applications needing persistent memory across interactions\\n- Multi-agent systems where different specialized agents collaborate\\n- Stateful applications that require iterative processing patterns\\n- Applications with complex decision trees or conditional workflows\\n\\n## Advantages\\n- Provides a structured approach to building sophisticated LLM applications\\n- Reduces development time for complex agent systems\\n- Improves system quality through clear workflow visualization\\n- Integrates seamlessly with other LangChain tools\\n\\n## When to Use\\nLangGraph is particularly valuable for applications that require:\\n- Cyclical processing patterns\\n- Multi-agent coordination\\n- Long-term memory and state management\\n- Complex, non-linear workflows\\n\\nFor simpler applications that don't require these complex features, LangGraph might introduce unnecessary complexity.\\n\\nThe framework is trusted by companies like Klarna, Replit, and Elastic for building the future of AI agents.\", additional_kwargs={}, response_metadata={'role': 'assistant', 'content': \"Based on the search results, I can provide you with a comprehensive overview of LangGraph.\\n\\nLangGraph is an open-source AI agent framework created by LangChain that enables developers to build, deploy, and manage complex generative AI agent workflows. Here are the key aspects of LangGraph:\\n\\n## Core Concept\\nLangGraph is a graph-based framework designed for building AI agents that can reason, plan, and act through interconnected steps. It uses a stateful graph structure where nodes represent different processing steps and edges represent the flow of information between them.\\n\\n## Key Features\\n\\n1. **Stateful Workflows**: LangGraph is specifically designed for long-running, stateful agent workflows, maintaining context and memory across multiple interactions.\\n\\n2. **Graph-Based Architecture**: The framework represents workflows as graphs, making it easier to visualize and manage complex processing patterns, especially those requiring cyclical or iterative processing.\\n\\n3. **Multi-Agent Coordination**: LangGraph excels at building multi-agent systems where different components or agents coordinate to accomplish complex tasks.\\n\\n4. **Memory Management**: It includes built-in memory management capabilities, allowing agents to store and retrieve user facts, conversation history, and session data.\\n\\n5. **Low-Level Orchestration**: LangGraph provides low-level infrastructure for any long-running, stateful workflow or agent, making it flexible enough to be used standalone or integrated with other LangChain products.\\n\\n6. **Scalable Deployment**: The LangGraph Platform offers tools to deploy and scale agents effortlessly, particularly for long-running workflows.\\n\\n## Use Cases\\n- Complex agent workflows requiring multiple reasoning steps\\n- Applications needing persistent memory across interactions\\n- Multi-agent systems where different specialized agents collaborate\\n- Stateful applications that require iterative processing patterns\\n- Applications with complex decision trees or conditional workflows\\n\\n## Advantages\\n- Provides a structured approach to building sophisticated LLM applications\\n- Reduces development time for complex agent systems\\n- Improves system quality through clear workflow visualization\\n- Integrates seamlessly with other LangChain tools\\n\\n## When to Use\\nLangGraph is particularly valuable for applications that require:\\n- Cyclical processing patterns\\n- Multi-agent coordination\\n- Long-term memory and state management\\n- Complex, non-linear workflows\\n\\nFor simpler applications that don't require these complex features, LangGraph might introduce unnecessary complexity.\\n\\nThe framework is trusted by companies like Klarna, Replit, and Elastic for building the future of AI agents.\", 'reasoning_content': None, 'tool_calls': None, 'token_usage': {'prompt_tokens': 5392, 'total_tokens': 5875, 'completion_tokens': 483, 'prompt_tokens_details': None, 'reasoning_tokens': 0}, 'finish_reason': 'stop', 'model_name': 'qwen/qwen3-next-80b-a3b-instruct'}, id='run--759de712-8bba-4033-b99b-b016fb6869f4-0', usage_metadata={'input_tokens': 5392, 'output_tokens': 483, 'total_tokens': 5875}, role='assistant')]}"
      ]
     },
     "execution_count": 2,
     "metadata": {},
     "output_type": "execute_result"
    }
   ],
   "source": [
    "result"
   ]
  },
  {
   "cell_type": "code",
   "execution_count": null,
   "id": "577cb275",
   "metadata": {},
   "outputs": [],
   "source": []
  }
 ],
 "metadata": {
  "kernelspec": {
   "display_name": "AgenteCodificaoLangGraph",
   "language": "python",
   "name": "python3"
  },
  "language_info": {
   "codemirror_mode": {
    "name": "ipython",
    "version": 3
   },
   "file_extension": ".py",
   "mimetype": "text/x-python",
   "name": "python",
   "nbconvert_exporter": "python",
   "pygments_lexer": "ipython3",
   "version": "3.12.0"
  }
 },
 "nbformat": 4,
 "nbformat_minor": 5
}
